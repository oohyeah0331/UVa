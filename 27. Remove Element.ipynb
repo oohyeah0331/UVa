{
 "cells": [
  {
   "cell_type": "code",
   "execution_count": null,
   "metadata": {
    "collapsed": true
   },
   "outputs": [],
   "source": [
    "'''\n",
    "Given an array and a value, remove all instances of that value in-place and return the new length.\n",
    "\n",
    "Do not allocate extra space for another array, you must do this by modifying the input array in-place with O(1) extra memory.\n",
    "\n",
    "The order of elements can be changed. It doesn't matter what you leave beyond the new length.\n",
    "\n",
    "Example:\n",
    "\n",
    "Given nums = [3,2,2,3], val = 3,\n",
    "\n",
    "Your function should return length = 2, with the first two elements of nums being 2.\n",
    "'''"
   ]
  },
  {
   "cell_type": "code",
   "execution_count": 3,
   "metadata": {
    "collapsed": true
   },
   "outputs": [],
   "source": [
    "class Solution:\n",
    "    def removeElement(self, nums, val):\n",
    "        \"\"\"\n",
    "        :type nums: List[int]\n",
    "        :type val: int\n",
    "        :rtype: int\n",
    "        \"\"\"\n",
    "        length = len(nums)\n",
    "        index = 0\n",
    "        while index < length:\n",
    "            if nums[index] == val:\n",
    "                del nums[index]\n",
    "                length -= 1\n",
    "            else:\n",
    "                index += 1\n",
    "        return len(nums)"
   ]
  },
  {
   "cell_type": "code",
   "execution_count": 4,
   "metadata": {},
   "outputs": [
    {
     "name": "stdout",
     "output_type": "stream",
     "text": [
      "4\n",
      "0\n",
      "0\n"
     ]
    }
   ],
   "source": [
    "if __name__ == \"__main__\":\n",
    "    print(Solution().removeElement([1, 2, 3, 3, 3, 4, 1], 3))\n",
    "    print(Solution().removeElement([1],1))\n",
    "    print(Solution().removeElement([3,3],3))"
   ]
  },
  {
   "cell_type": "code",
   "execution_count": null,
   "metadata": {
    "collapsed": true
   },
   "outputs": [],
   "source": []
  }
 ],
 "metadata": {
  "kernelspec": {
   "display_name": "Python [anaconda3]",
   "language": "python",
   "name": "Python [anaconda3]"
  },
  "language_info": {
   "codemirror_mode": {
    "name": "ipython",
    "version": 3
   },
   "file_extension": ".py",
   "mimetype": "text/x-python",
   "name": "python",
   "nbconvert_exporter": "python",
   "pygments_lexer": "ipython3",
   "version": "3.6.4"
  }
 },
 "nbformat": 4,
 "nbformat_minor": 2
}
