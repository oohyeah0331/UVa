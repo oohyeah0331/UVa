{
 "cells": [
  {
   "cell_type": "code",
   "execution_count": 77,
   "metadata": {},
   "outputs": [],
   "source": [
    "class Solution:\n",
    "    def twoSum(self, nums, target):\n",
    "        \"\"\"\n",
    "        :type nums: List[int]\n",
    "        :type target: int\n",
    "        :rtype: List[int]\n",
    "        \"\"\"\n",
    "        i,j = 0,0\n",
    "        for i,n in enumerate(nums):\n",
    "            a = target - n\n",
    "            #print('i = ',i,'n = ',n)\n",
    "            #print('a = ',a)\n",
    "            for j,m in enumerate(nums[i+1:],start=i+1):\n",
    "                #print('j = ',j,'m = ',m)\n",
    "                if(m == a):\n",
    "                    return [i,j]\n",
    "        return [i,j]"
   ]
  },
  {
   "cell_type": "code",
   "execution_count": 78,
   "metadata": {},
   "outputs": [
    {
     "name": "stdout",
     "output_type": "stream",
     "text": [
      "[1, 3]\n"
     ]
    }
   ],
   "source": [
    "if __name__ == \"__main__\":\n",
    "    #nums = [2, 7, 11, 15]\n",
    "    #nums = [3, 2, 4]\n",
    "    nums = [1,3,2,3]\n",
    "    target = 6\n",
    "    \n",
    "    print(Solution().twoSum(nums, target))\n",
    "    "
   ]
  }
 ],
 "metadata": {
  "anaconda-cloud": {},
  "kernelspec": {
   "display_name": "Python [anaconda3]",
   "language": "python",
   "name": "Python [anaconda3]"
  },
  "language_info": {
   "codemirror_mode": {
    "name": "ipython",
    "version": 3
   },
   "file_extension": ".py",
   "mimetype": "text/x-python",
   "name": "python",
   "nbconvert_exporter": "python",
   "pygments_lexer": "ipython3",
   "version": "3.6.4"
  }
 },
 "nbformat": 4,
 "nbformat_minor": 2
}
